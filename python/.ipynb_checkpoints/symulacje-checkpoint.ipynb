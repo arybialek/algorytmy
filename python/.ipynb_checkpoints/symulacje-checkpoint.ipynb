{
 "cells": [
  {
   "cell_type": "markdown",
   "metadata": {},
   "source": [
    "## Definicje funkcji"
   ]
  },
  {
   "cell_type": "code",
   "execution_count": 12,
   "metadata": {},
   "outputs": [],
   "source": [
    "def FIFO(input_set, num_frames): #input_set - lista\n",
    "    output_string = \"\"\n",
    "    frames = num_frames * [None]\n",
    "    \n",
    "    for element in input_set:\n",
    "        \n",
    "        if element in frames:\n",
    "            output_string += \"---\\n\"\n",
    "            continue\n",
    "        \n",
    "        #poniższa pętla szuka wolnego miejsca w ramkach\n",
    "        if None in frames:\n",
    "            for idx, frame in enumerate(frames): #zwraca element frame i indeks(do modyfikacji ramek)\n",
    "                if frame is None:\n",
    "                    frames[idx] = element\n",
    "                    break\n",
    "        \n",
    "        else:\n",
    "            del frames[0]\n",
    "            frames.append(element)\n",
    "        output_string += str(frames) + \"\\n\"\n",
    "        \n",
    "    return output_string\n",
    "\n",
    "\n",
    "def OPT(input_set, num_frames):\n",
    "    output_string = \"\"\n",
    "    frames = num_frames * [None]\n",
    "    \n",
    "    for el_idx, element in enumerate(input_set):\n",
    "        \n",
    "        if element in frames:\n",
    "            output_string += \"---\\n\"\n",
    "            continue\n",
    "            \n",
    "        if None in frames:\n",
    "            for idx, frame in enumerate(frames):\n",
    "                if frame is None:\n",
    "                    frames[idx] = element\n",
    "                    break\n",
    "                    \n",
    "        else:\n",
    "            subset_to_check = input_set[el_idx+1:]\n",
    "            \n",
    "            oldest_idx = -1\n",
    "            oldest_value = -1\n",
    "            for frame in frames:\n",
    "                if frame is not None:\n",
    "                    try:\n",
    "                        current_idx = subset_to_check.index(frame) #najwczesniejszy indeks sprawdzanej wartosci z ramki\n",
    "                    except ValueError:\n",
    "                        oldest_value = frame #sprawdzana wartoć nie istnieje w zbiorze sprawdzanych wartości, dlatego f-cja subset.. wyrzuca exception\n",
    "                        break\n",
    "                    else: #jeżeli jest wartość w zbiorze sprawdzanych wartości\n",
    "                        if oldest_idx < current_idx:\n",
    "                            oldest_idx = current_idx\n",
    "                            oldest_value = subset_to_check[oldest_idx]\n",
    "            \n",
    "            frames[frames.index(oldest_value)] = element #sprawdzany jest idx wartości, która ma być nadpisana przez nowy proces\n",
    "        \n",
    "        output_string += str(frames) + \"\\n\"\n",
    "        \n",
    "    return output_string"
   ]
  },
  {
   "cell_type": "code",
   "execution_count": 13,
   "metadata": {},
   "outputs": [],
   "source": [
    "def load_reference_set_from_file(filename):\n",
    "    with open(filename, \"r\") as file:\n",
    "        data = file.read()\n",
    "        data = data.replace(\"\\n\",\"\").split(\" \")\n",
    "        data = list(map(int, data))\n",
    "        \n",
    "    return data\n",
    "\n",
    "def load_data_from_user():\n",
    "    data = input(\"Prosze podac ciag odniesien (oddzielonych spacja): \")\n",
    "    data = data.replace(\"\\n\", \"\").split(\" \")\n",
    "    data = list(map(int, data))\n",
    "    \n",
    "    num_frames = input(\"Prosze podac liczbe ramek: \")\n",
    "    num_frames = num_frames.replace(\"\\n\", \"\")\n",
    "    num_frames = int(num_frames)\n",
    "    \n",
    "    return data, num_frames\n",
    "\n",
    "def save_to_file(output, filename):\n",
    "    with open(filename, \"w\") as file:\n",
    "        file.write(output) \n",
    "    "
   ]
  },
  {
   "cell_type": "markdown",
   "metadata": {},
   "source": [
    "## Uruchomienie funkcji"
   ]
  },
  {
   "cell_type": "code",
   "execution_count": 18,
   "metadata": {},
   "outputs": [
    {
     "name": "stdout",
     "output_type": "stream",
     "text": [
      "[7, None, None]\n",
      "[7, 0, None]\n",
      "[7, 0, 1]\n",
      "[2, 0, 1]\n",
      "---\n",
      "[2, 0, 3]\n",
      "---\n",
      "[2, 4, 3]\n",
      "---\n",
      "---\n",
      "[2, 0, 3]\n",
      "---\n",
      "---\n",
      "[2, 0, 1]\n",
      "---\n",
      "---\n",
      "---\n",
      "[7, 0, 1]\n",
      "---\n",
      "---\n",
      "\n"
     ]
    }
   ],
   "source": [
    "print(OPT(loaded_data, 3))\n",
    "\n"
   ]
  },
  {
   "cell_type": "code",
   "execution_count": 17,
   "metadata": {},
   "outputs": [],
   "source": [
    "loaded_data = load_reference_set_from_file(\"new_file.txt\") #z pliku"
   ]
  },
  {
   "cell_type": "code",
   "execution_count": 79,
   "metadata": {},
   "outputs": [
    {
     "name": "stdout",
     "output_type": "stream",
     "text": [
      "Prosze podac ciag odniesien (oddzielonych spacja): 5 0 1 2 0 3 0 4 2 3 0 2\n",
      "Prosze podac liczbe ramek: 3\n"
     ]
    }
   ],
   "source": [
    "loaded_data_from_user, num_frames = load_data_from_user() #od użytkownika lista + liczba ramek"
   ]
  },
  {
   "cell_type": "code",
   "execution_count": 8,
   "metadata": {},
   "outputs": [
    {
     "name": "stdout",
     "output_type": "stream",
     "text": [
      "3\n"
     ]
    }
   ],
   "source": [
    "tab = [2,3,3,3,4,5,6,7]\n",
    "el_idx = 1 \n",
    "print(tab[el_idx])"
   ]
  },
  {
   "cell_type": "code",
   "execution_count": 11,
   "metadata": {},
   "outputs": [
    {
     "ename": "ValueError",
     "evalue": "9 is not in list",
     "output_type": "error",
     "traceback": [
      "\u001b[0;31m---------------------------------------------------------------------------\u001b[0m",
      "\u001b[0;31mValueError\u001b[0m                                Traceback (most recent call last)",
      "\u001b[0;32m<ipython-input-11-456c17eb4a8a>\u001b[0m in \u001b[0;36m<module>\u001b[0;34m()\u001b[0m\n\u001b[0;32m----> 1\u001b[0;31m \u001b[0mtab\u001b[0m\u001b[0;34m.\u001b[0m\u001b[0mindex\u001b[0m\u001b[0;34m(\u001b[0m\u001b[0;36m9\u001b[0m\u001b[0;34m)\u001b[0m\u001b[0;34m\u001b[0m\u001b[0m\n\u001b[0m",
      "\u001b[0;31mValueError\u001b[0m: 9 is not in list"
     ]
    }
   ],
   "source": [
    "tab.index(9)"
   ]
  },
  {
   "cell_type": "code",
   "execution_count": 38,
   "metadata": {},
   "outputs": [],
   "source": [
    "import numpy as np\n",
    "def generate_reference_set(set_size):\n",
    "    return np.random.randint(0,10,size=set_size).tolist()\n",
    "    "
   ]
  },
  {
   "cell_type": "code",
   "execution_count": 43,
   "metadata": {},
   "outputs": [
    {
     "name": "stdout",
     "output_type": "stream",
     "text": [
      "[5, None, None]\n",
      "[5, 4, None]\n",
      "[5, 4, 1]\n",
      "[4, 1, 3]\n",
      "[1, 3, 9]\n",
      "[3, 9, 2]\n",
      "[9, 2, 0]\n",
      "[2, 0, 4]\n",
      "---\n",
      "[0, 4, 1]\n",
      "[4, 1, 3]\n",
      "---\n",
      "[1, 3, 0]\n",
      "[3, 0, 6]\n",
      "[0, 6, 5]\n",
      "\n"
     ]
    }
   ],
   "source": [
    "output = generate_reference_set(15)\n",
    "print(FIFO(output,3))\n"
   ]
  },
  {
   "cell_type": "code",
   "execution_count": 44,
   "metadata": {},
   "outputs": [
    {
     "name": "stdout",
     "output_type": "stream",
     "text": [
      "Variable                       Type        Data/Info\n",
      "----------------------------------------------------\n",
      "FIFO                           function    <function FIFO at 0x7f1e60adfbf8>\n",
      "OPT                            function    <function OPT at 0x7f1e60adf0d0>\n",
      "cos                            list        n=15\n",
      "el_idx                         int         1\n",
      "generate_reference_set         function    <function generate_refere<...>ce_set at 0x7f1e609ad9d8>\n",
      "load_data_from_user            function    <function load_data_from_user at 0x7f1e60f61730>\n",
      "load_reference_set_from_file   function    <function load_reference_<...>m_file at 0x7f1e60f617b8>\n",
      "loaded_data                    list        n=20\n",
      "np                             module      <module 'numpy' from '/ho<...>kages/numpy/__init__.py'>\n",
      "output                         list        n=15\n",
      "random                         module      <module 'random' from '/u<...>lib/python3.5/random.py'>\n",
      "save_to_file                   function    <function save_to_file at 0x7f1e60c5f840>\n",
      "tab                            list        n=8\n",
      "tablica                        ndarray     6: 6 elems, type `int64`, 48 bytes\n"
     ]
    }
   ],
   "source": [
    "%whos"
   ]
  },
  {
   "cell_type": "code",
   "execution_count": null,
   "metadata": {},
   "outputs": [],
   "source": []
  },
  {
   "cell_type": "code",
   "execution_count": null,
   "metadata": {},
   "outputs": [],
   "source": []
  }
 ],
 "metadata": {
  "kernelspec": {
   "display_name": "Python 3",
   "language": "python",
   "name": "python3"
  },
  "language_info": {
   "codemirror_mode": {
    "name": "ipython",
    "version": 3
   },
   "file_extension": ".py",
   "mimetype": "text/x-python",
   "name": "python",
   "nbconvert_exporter": "python",
   "pygments_lexer": "ipython3",
   "version": "3.5.2"
  }
 },
 "nbformat": 4,
 "nbformat_minor": 2
}
