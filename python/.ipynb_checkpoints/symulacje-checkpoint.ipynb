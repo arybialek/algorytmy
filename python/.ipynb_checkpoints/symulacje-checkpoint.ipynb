{
 "cells": [
  {
   "cell_type": "markdown",
   "metadata": {},
   "source": [
    "## Definicje funkcji"
   ]
  },
  {
   "cell_type": "code",
   "execution_count": 9,
   "metadata": {},
   "outputs": [],
   "source": [
    "def FIFO(input_set, num_frames):\n",
    "    output_string = \"\"\n",
    "    frames = num_frames * [None]\n",
    "    \n",
    "    for element in input_set:\n",
    "        \n",
    "        if element in frames:\n",
    "            output_string += \"---\\n\"\n",
    "            continue\n",
    "        \n",
    "        #poniższa pętla szuka wolnego miejsca w ramkach\n",
    "        if None in frames:\n",
    "            for idx, frame in enumerate(frames): \n",
    "                if frame is None:\n",
    "                    frames[idx] = element\n",
    "                    break\n",
    "        \n",
    "        else:\n",
    "            del frames[0]\n",
    "            frames.append(element)\n",
    "        output_string += str(frames) + \"\\n\"\n",
    "        \n",
    "    return output_string\n",
    "\n",
    "def load_reference_set_from_file(filename):\n",
    "    with open(filename, \"r\") as file:\n",
    "        data = file.read()\n",
    "        data = data.replace(\"\\n\",\"\").split(\" \")\n",
    "        data = list(map(int, data))\n",
    "        \n",
    "    return data\n",
    "\n",
    "def load_data_from_user():\n",
    "    data = input(\"Prosze podac ciag odniesien (oddzielonych spacja): \")\n",
    "    data = data.replace(\"\\n\", \"\").split(\" \")\n",
    "    data = list(map(int, data))\n",
    "    \n",
    "    num_frames = input(\"Prosze podac liczbe ramek: \")\n",
    "    num_frames = num_frames.replace(\"\\n\", \"\")\n",
    "    num_frames = int(num_frames)\n",
    "    \n",
    "    return data, num_frames\n",
    "\n",
    "def save_to_file(output, filename):\n",
    "    with open(filename, \"w\") as file:\n",
    "        file.write(output) \n",
    "    "
   ]
  },
  {
   "cell_type": "markdown",
   "metadata": {},
   "source": [
    "## Uruchomienie funkcji"
   ]
  },
  {
   "cell_type": "code",
   "execution_count": 11,
   "metadata": {},
   "outputs": [],
   "source": [
    "save_to_file(FIFO(loaded_data, 3), \"tekste\")\n",
    "\n"
   ]
  },
  {
   "cell_type": "code",
   "execution_count": 2,
   "metadata": {},
   "outputs": [],
   "source": [
    "loaded_data = load_reference_set_from_file(\"reference_set.txt\") #z pliku"
   ]
  },
  {
   "cell_type": "code",
   "execution_count": 79,
   "metadata": {},
   "outputs": [
    {
     "name": "stdout",
     "output_type": "stream",
     "text": [
      "Prosze podac ciag odniesien (oddzielonych spacja): 5 0 1 2 0 3 0 4 2 3 0 2\n",
      "Prosze podac liczbe ramek: 3\n"
     ]
    }
   ],
   "source": [
    "loaded_data_from_user, num_frames = load_data_from_user() #od użytkownika lista + liczba ramek"
   ]
  },
  {
   "cell_type": "code",
   "execution_count": null,
   "metadata": {},
   "outputs": [],
   "source": []
  }
 ],
 "metadata": {
  "kernelspec": {
   "display_name": "Python 3",
   "language": "python",
   "name": "python3"
  },
  "language_info": {
   "codemirror_mode": {
    "name": "ipython",
    "version": 3
   },
   "file_extension": ".py",
   "mimetype": "text/x-python",
   "name": "python",
   "nbconvert_exporter": "python",
   "pygments_lexer": "ipython3",
   "version": "3.5.2"
  }
 },
 "nbformat": 4,
 "nbformat_minor": 2
}
